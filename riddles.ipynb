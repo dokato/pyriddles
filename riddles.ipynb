{
 "cells": [
  {
   "cell_type": "markdown",
   "metadata": {},
   "source": [
    "# Python Riddles"
   ]
  },
  {
   "cell_type": "code",
   "execution_count": 8,
   "metadata": {
    "collapsed": true
   },
   "outputs": [],
   "source": [
    "# all necessary imports\n",
    "import numpy as np\n",
    "import re"
   ]
  },
  {
   "cell_type": "markdown",
   "metadata": {},
   "source": [
    "Give a sum of all odd numbers from 1 to 100 inclusive. (one-liner)\n",
    "<< 1/5 >>"
   ]
  },
  {
   "cell_type": "code",
   "execution_count": 2,
   "metadata": {
    "collapsed": false
   },
   "outputs": [
    {
     "data": {
      "text/plain": [
       "2500"
      ]
     },
     "execution_count": 2,
     "metadata": {},
     "output_type": "execute_result"
    }
   ],
   "source": [
    "sum([i for i in range(1,101) if i%2==1])"
   ]
  },
  {
   "cell_type": "markdown",
   "metadata": {},
   "source": [
    "Sum all integers within the range `i = 1…1000` inclusive. If the number `i` is a multiple of 3 or 5, double it and add it to the sum. (one-liner) << 2/5 >>"
   ]
  },
  {
   "cell_type": "code",
   "execution_count": 3,
   "metadata": {
    "collapsed": false,
    "scrolled": true
   },
   "outputs": [
    {
     "data": {
      "text/plain": [
       "734668"
      ]
     },
     "execution_count": 3,
     "metadata": {},
     "output_type": "execute_result"
    }
   ],
   "source": [
    "sum([2*i for i in range(1,1001) if i%3==0 or i%5==0]) + sum([i for i in range(1,1001) if not i%3==0 and not i%5==0])"
   ]
  },
  {
   "cell_type": "markdown",
   "metadata": {},
   "source": [
    "Try to find maximum value of pair over given lists (you can't use numpy!) (one-liner). << 3/5 >>\n",
    "\n",
    "```\n",
    "a = [3, 1, 5, 3, 4, 7, 8,  11]\n",
    "b = [0, 2, 2, 0, 4, 9, 99, 10]\n",
    "```"
   ]
  },
  {
   "cell_type": "code",
   "execution_count": 4,
   "metadata": {
    "collapsed": false
   },
   "outputs": [
    {
     "data": {
      "text/plain": [
       "[3, 2, 5, 3, 4, 9, 99, 11]"
      ]
     },
     "execution_count": 4,
     "metadata": {},
     "output_type": "execute_result"
    }
   ],
   "source": [
    "a = [3, 1, 5, 3, 4, 7, 8,  11]\n",
    "b = [0, 2, 2, 0, 4, 9, 99, 10]\n",
    "list(map(lambda pair: max(pair), zip(a, b)))"
   ]
  },
  {
   "cell_type": "markdown",
   "metadata": {},
   "source": [
    "Assign to a, b, c three multiples of 17 from range 100 to 150. (one-liner) << 1/5 >>"
   ]
  },
  {
   "cell_type": "code",
   "execution_count": 5,
   "metadata": {
    "collapsed": false
   },
   "outputs": [],
   "source": [
    "a, b, c = [i for i in range(100,150) if i%17==0]"
   ]
  },
  {
   "cell_type": "markdown",
   "metadata": {},
   "source": [
    "Print each char as many times as given value in alphabetical order. (one-liner) << 1/5 >>\n",
    "```\n",
    "m = {'a': 1,  'c': 3, 'b': 2, 'd': 4}\n",
    "```"
   ]
  },
  {
   "cell_type": "code",
   "execution_count": 6,
   "metadata": {
    "collapsed": false
   },
   "outputs": [
    {
     "name": "stdout",
     "output_type": "stream",
     "text": [
      "a\n",
      "bb\n",
      "ccc\n",
      "dddd\n"
     ]
    }
   ],
   "source": [
    "m = {'a': 1, 'b': 2, 'c': 3, 'd': 4}\n",
    "for k,v in sorted(m.items()): print(k*v)"
   ]
  },
  {
   "cell_type": "markdown",
   "metadata": {},
   "source": [
    "Seprate int from chars in `[(1, 'a'), (2, 'b'), (3, 'c')]`. (one-liner) << 4/5 >>"
   ]
  },
  {
   "cell_type": "code",
   "execution_count": 7,
   "metadata": {
    "collapsed": false
   },
   "outputs": [
    {
     "data": {
      "text/plain": [
       "[(1, 2, 3), ('a', 'b', 'c')]"
      ]
     },
     "execution_count": 7,
     "metadata": {},
     "output_type": "execute_result"
    }
   ],
   "source": [
    "x = [(1, 'a'), (2, 'b'), (3, 'c')]\n",
    "list(zip(*x))"
   ]
  },
  {
   "cell_type": "markdown",
   "metadata": {},
   "source": [
    "Invert given dictionary: (one-liner) << 2/5 >>\n",
    "```\n",
    "d = {'a': 1, 'b': 2, 'c': 3, 'd': 4}\n",
    "```"
   ]
  },
  {
   "cell_type": "code",
   "execution_count": 8,
   "metadata": {
    "collapsed": false
   },
   "outputs": [
    {
     "data": {
      "text/plain": [
       "{1: 'a', 2: 'b', 3: 'c', 4: 'd'}"
      ]
     },
     "execution_count": 8,
     "metadata": {},
     "output_type": "execute_result"
    }
   ],
   "source": [
    "d = {'a': 1, 'b': 2, 'c': 3, 'd': 4}\n",
    "{d[k]:k for k in d}"
   ]
  },
  {
   "cell_type": "markdown",
   "metadata": {},
   "source": [
    "Write a lambda function to group `k` adjacent list items together. (one-liner) << 5/5 >>\n",
    "\n",
    "You may test it on:\n",
    "```\n",
    "a = [1, 2, 3, 4, 5, 6]\n",
    "```"
   ]
  },
  {
   "cell_type": "code",
   "execution_count": 9,
   "metadata": {
    "collapsed": false
   },
   "outputs": [
    {
     "data": {
      "text/plain": [
       "[(1, 2), (3, 4), (5, 6)]"
      ]
     },
     "execution_count": 9,
     "metadata": {},
     "output_type": "execute_result"
    }
   ],
   "source": [
    "a = [1, 2, 3, 4, 5, 6]\n",
    "group = lambda a, k: list(zip(*([iter(a)] * k)))\n",
    "group(a, 2)"
   ]
  },
  {
   "cell_type": "markdown",
   "metadata": {},
   "source": [
    "Flatten a list of lists `[[1, 2], [3, 4], [5, 6]]`. (one-liner) << 3/5 >>"
   ]
  },
  {
   "cell_type": "code",
   "execution_count": 10,
   "metadata": {
    "collapsed": false
   },
   "outputs": [
    {
     "data": {
      "text/plain": [
       "[1, 2, 3, 4, 5, 6]"
      ]
     },
     "execution_count": 10,
     "metadata": {},
     "output_type": "execute_result"
    }
   ],
   "source": [
    "a = [[1, 2], [3, 4], [5, 6]]\n",
    "sum(a, [])"
   ]
  },
  {
   "cell_type": "markdown",
   "metadata": {
    "collapsed": true
   },
   "source": [
    "Write a function writing to terminal histogram of given numbers. For example for numbers `[3, 6, 4]` it should look like:\n",
    "```\n",
    "***\n",
    "******\n",
    "****\n",
    "```\n",
    "(2/3 lines) << 1/5 >>"
   ]
  },
  {
   "cell_type": "code",
   "execution_count": 11,
   "metadata": {
    "collapsed": false
   },
   "outputs": [
    {
     "name": "stdout",
     "output_type": "stream",
     "text": [
      "***\n",
      "******\n",
      "****\n"
     ]
    }
   ],
   "source": [
    "def txthist(x):\n",
    "    for i in x: print('*'*i)\n",
    "\n",
    "txthist([3, 6, 4])"
   ]
  },
  {
   "cell_type": "markdown",
   "metadata": {},
   "source": [
    "Print every second letter from a string `a` in reversed order. (one-liner) << 2/5 >>"
   ]
  },
  {
   "cell_type": "code",
   "execution_count": 12,
   "metadata": {
    "collapsed": false
   },
   "outputs": [
    {
     "data": {
      "text/plain": [
       "'igeca'"
      ]
     },
     "execution_count": 12,
     "metadata": {},
     "output_type": "execute_result"
    }
   ],
   "source": [
    "a = \"abcdefghij\"\n",
    "a[::2][::-1]"
   ]
  },
  {
   "cell_type": "markdown",
   "metadata": {},
   "source": [
    "Exchange every \"a\" letter in string with \"duck\". (one-liner) << 1/5 >>"
   ]
  },
  {
   "cell_type": "code",
   "execution_count": 13,
   "metadata": {
    "collapsed": false
   },
   "outputs": [
    {
     "data": {
      "text/plain": [
       "'ducknnduckpurnduck'"
      ]
     },
     "execution_count": 13,
     "metadata": {},
     "output_type": "execute_result"
    }
   ],
   "source": [
    "a = \"annapurna\"\n",
    "\"\".join([\"duck\" if i==\"a\" else i for i in a])\n",
    "\"duck\".join(a.split(\"a\"))"
   ]
  },
  {
   "cell_type": "markdown",
   "metadata": {},
   "source": [
    "Print letter as many times as the number on its right says for string : `a3,f8,g1,h7,o2`. (one-liner)\n",
    "\n",
    "e.g. for `a2,b5` result should be:\n",
    "```\n",
    "aa\n",
    "bbbbb\n",
    "```\n",
    "<< 2/5 >>"
   ]
  },
  {
   "cell_type": "code",
   "execution_count": 14,
   "metadata": {
    "collapsed": false
   },
   "outputs": [
    {
     "name": "stdout",
     "output_type": "stream",
     "text": [
      "aaa\n",
      "ffffffff\n",
      "g\n",
      "hhhhhhh\n",
      "oo\n"
     ]
    }
   ],
   "source": [
    "for x in 'a3,f8,g1,h7,o2'.split(\",\"): print(x[0]*int(x[1]))"
   ]
  },
  {
   "cell_type": "markdown",
   "metadata": {},
   "source": [
    "Make a list of ASCII numbers of upper-case letters of `python` string (one-liner)\n",
    "\n",
    "<< 1/5 >>"
   ]
  },
  {
   "cell_type": "code",
   "execution_count": 4,
   "metadata": {
    "collapsed": false
   },
   "outputs": [
    {
     "data": {
      "text/plain": [
       "[80, 89, 84, 72, 79, 78]"
      ]
     },
     "execution_count": 4,
     "metadata": {},
     "output_type": "execute_result"
    }
   ],
   "source": [
    "[ord(x) for x in 'python'.upper()]"
   ]
  },
  {
   "cell_type": "markdown",
   "metadata": {},
   "source": [
    "# RegEx"
   ]
  },
  {
   "cell_type": "markdown",
   "metadata": {},
   "source": [
    "Count how many times word 'list' occures in `list` docstring (one-liner)\n",
    "\n",
    "<< 2/5 >>"
   ]
  },
  {
   "cell_type": "code",
   "execution_count": 16,
   "metadata": {
    "collapsed": false
   },
   "outputs": [
    {
     "data": {
      "text/plain": [
       "4"
      ]
     },
     "execution_count": 16,
     "metadata": {},
     "output_type": "execute_result"
    }
   ],
   "source": [
    "len(re.findall('list', list.__doc__))"
   ]
  },
  {
   "cell_type": "markdown",
   "metadata": {},
   "source": [
    "Separate first word from others in string `Spam, spam, word, python`. (one-liner)\n",
    "\n",
    "<< 3/5 >>"
   ]
  },
  {
   "cell_type": "code",
   "execution_count": 23,
   "metadata": {
    "collapsed": false
   },
   "outputs": [
    {
     "data": {
      "text/plain": [
       "['Spam', 'spam, word, python']"
      ]
     },
     "execution_count": 23,
     "metadata": {},
     "output_type": "execute_result"
    }
   ],
   "source": [
    "re.split('\\W+', 'Spam, spam, word, python', 1)"
   ]
  },
  {
   "cell_type": "markdown",
   "metadata": {},
   "source": [
    "# Numpy"
   ]
  },
  {
   "cell_type": "markdown",
   "metadata": {},
   "source": [
    "Choose all non-nan elements from array x. (oneliner)\n",
    "```\n",
    "x = np.array([243, np.nan, 123, np.nan, np.nan ,6])\n",
    "```\n",
    "\n",
    "<< 3/5 >>"
   ]
  },
  {
   "cell_type": "code",
   "execution_count": 15,
   "metadata": {
    "collapsed": false
   },
   "outputs": [
    {
     "data": {
      "text/plain": [
       "array([ 243.,  123.,    6.])"
      ]
     },
     "execution_count": 15,
     "metadata": {},
     "output_type": "execute_result"
    }
   ],
   "source": [
    "x = np.array([243, np.nan, 123, np.nan, np.nan ,6])\n",
    "x[~np.isnan(x)]"
   ]
  },
  {
   "cell_type": "markdown",
   "metadata": {},
   "source": [
    "Write function which exchange values o binary ones depending on threshold. Test it on `np.random.random(10)` array. (2/3 lines)\n",
    "\n",
    "<< 2/5 >>"
   ]
  },
  {
   "cell_type": "code",
   "execution_count": 16,
   "metadata": {
    "collapsed": false
   },
   "outputs": [
    {
     "name": "stdout",
     "output_type": "stream",
     "text": [
      "[ 0.  0.  1.  0.  1.  0.  0.  0.  0.  0.]\n"
     ]
    }
   ],
   "source": [
    "z = np.random.random(10)\n",
    "\n",
    "def f(z, threshold=0.5):\n",
    "    z[np.where(z>threshold)[0]]=1\n",
    "    z[np.where(z<=threshold)[0]]=0\n",
    "\n",
    "f(z)\n",
    "print(z)"
   ]
  },
  {
   "cell_type": "markdown",
   "metadata": {
    "collapsed": true
   },
   "source": [
    "Mulitply an array of dimension (5,5,3) by an array with dimensions (5,5). (one-liner)\n",
    "\n",
    "<< 2/5 >>"
   ]
  },
  {
   "cell_type": "code",
   "execution_count": 17,
   "metadata": {
    "collapsed": false
   },
   "outputs": [
    {
     "data": {
      "text/plain": [
       "array([[[ 2.,  2.],\n",
       "        [ 2.,  2.],\n",
       "        [ 2.,  2.],\n",
       "        [ 2.,  2.],\n",
       "        [ 2.,  2.]],\n",
       "\n",
       "       [[ 2.,  2.],\n",
       "        [ 2.,  2.],\n",
       "        [ 2.,  2.],\n",
       "        [ 2.,  2.],\n",
       "        [ 2.,  2.]],\n",
       "\n",
       "       [[ 2.,  2.],\n",
       "        [ 2.,  2.],\n",
       "        [ 2.,  2.],\n",
       "        [ 2.,  2.],\n",
       "        [ 2.,  2.]],\n",
       "\n",
       "       [[ 2.,  2.],\n",
       "        [ 2.,  2.],\n",
       "        [ 2.,  2.],\n",
       "        [ 2.,  2.],\n",
       "        [ 2.,  2.]],\n",
       "\n",
       "       [[ 2.,  2.],\n",
       "        [ 2.,  2.],\n",
       "        [ 2.,  2.],\n",
       "        [ 2.,  2.],\n",
       "        [ 2.,  2.]]])"
      ]
     },
     "execution_count": 17,
     "metadata": {},
     "output_type": "execute_result"
    }
   ],
   "source": [
    "A = np.ones((5,5,2))\n",
    "B = 2*np.ones((5,5))\n",
    "A * B[:,:,None]"
   ]
  },
  {
   "cell_type": "markdown",
   "metadata": {},
   "source": [
    "Change the sign of a float inplace (one-liner)\n",
    "\n",
    "<< 1/5 >>"
   ]
  },
  {
   "cell_type": "code",
   "execution_count": 18,
   "metadata": {
    "collapsed": false
   },
   "outputs": [
    {
     "data": {
      "text/plain": [
       "array([-0.2009929 ,  0.86279509,  0.98360998, -0.09917452, -0.77284729])"
      ]
     },
     "execution_count": 18,
     "metadata": {},
     "output_type": "execute_result"
    }
   ],
   "source": [
    "arr = np.random.uniform(-1.0,1.0,5)\n",
    "np.negative(arr, out=arr)"
   ]
  },
  {
   "cell_type": "markdown",
   "metadata": {},
   "source": [
    "Create matrix in shape 3x4 with values ranging from 0 to 12 (one-liner)\n",
    "\n",
    "<< 1/5 >>"
   ]
  },
  {
   "cell_type": "code",
   "execution_count": 19,
   "metadata": {
    "collapsed": false
   },
   "outputs": [
    {
     "data": {
      "text/plain": [
       "array([[ 0,  1,  2,  3],\n",
       "       [ 4,  5,  6,  7],\n",
       "       [ 8,  9, 10, 11]])"
      ]
     },
     "execution_count": 19,
     "metadata": {},
     "output_type": "execute_result"
    }
   ],
   "source": [
    "np.arange(12).reshape(3,4)"
   ]
  },
  {
   "cell_type": "markdown",
   "metadata": {},
   "source": [
    "Find indices of non-zero elements from:\n",
    "```\n",
    "a = [1, 2, 0, 4, 0, 5]\n",
    "```\n",
    "(one-liner)\n",
    "\n",
    "<< 1/5 >>"
   ]
  },
  {
   "cell_type": "code",
   "execution_count": 20,
   "metadata": {
    "collapsed": false
   },
   "outputs": [
    {
     "data": {
      "text/plain": [
       "array([0, 1, 3, 5], dtype=int64)"
      ]
     },
     "execution_count": 20,
     "metadata": {},
     "output_type": "execute_result"
    }
   ],
   "source": [
    "a = [1, 2, 0, 4, 0, 5]\n",
    "np.nonzero(a)[0]"
   ]
  },
  {
   "cell_type": "markdown",
   "metadata": {},
   "source": [
    "Make an array immutable (read-only) (one-liner)\n",
    "\n",
    "<< 2/5 >>"
   ]
  },
  {
   "cell_type": "code",
   "execution_count": 23,
   "metadata": {
    "collapsed": false
   },
   "outputs": [],
   "source": [
    "X = np.zeros(10)\n",
    "X.flags.writeable = False\n",
    "#X[0] = 1"
   ]
  },
  {
   "cell_type": "markdown",
   "metadata": {},
   "source": [
    "Replace all maximum numbers from 3x3 matrix with integers from 0 to 10 with -10 (one-liner)\n",
    "<< 2/5 >>"
   ]
  },
  {
   "cell_type": "code",
   "execution_count": 22,
   "metadata": {
    "collapsed": false
   },
   "outputs": [
    {
     "data": {
      "text/plain": [
       "array([[-10,   8,   4],\n",
       "       [  3,   5,   1],\n",
       "       [  6,   4,   1]])"
      ]
     },
     "execution_count": 22,
     "metadata": {},
     "output_type": "execute_result"
    }
   ],
   "source": [
    "Z = np.random.randint(10, size=(3,3))\n",
    "Z[np.where(Z==Z.max())]=-10\n",
    "Z"
   ]
  },
  {
   "cell_type": "markdown",
   "metadata": {},
   "source": [
    "Create a structured array representing a position (x,y) and a color (r,g,b) with 3 empty entries. ( 1/2 lines )\n",
    "<< 5/5 >>"
   ]
  },
  {
   "cell_type": "code",
   "execution_count": 8,
   "metadata": {
    "collapsed": false
   },
   "outputs": [
    {
     "data": {
      "text/plain": [
       "array([((0.0, 0.0), (0.0, 0.0, 0.0)), ((0.0, 0.0), (0.0, 0.0, 0.0)),\n",
       "       ((0.0, 0.0), (0.0, 0.0, 0.0))], \n",
       "      dtype=[('position', [('x', '<f8'), ('y', '<f8')]), ('color', [('r', '<f8'), ('g', '<f8'), ('b', '<f8')])])"
      ]
     },
     "execution_count": 8,
     "metadata": {},
     "output_type": "execute_result"
    }
   ],
   "source": [
    "Z = np.zeros(3, [ ('position', [ ('x', float, 1),\n",
    "                                  ('y', float, 1)]),\n",
    "                   ('color',    [ ('r', float, 1),\n",
    "                                  ('g', float, 1),\n",
    "                                  ('b', float, 1)])])\n",
    "Z"
   ]
  },
  {
   "cell_type": "markdown",
   "metadata": {},
   "source": [
    "Generate a 10 x 3 array of random numbers. From each row, pick the number closest to 0.75. \n",
    "Hint: Make use of np.abs and np.argmax to find the column j which contains the closest element in each row.\n",
    "\n",
    "(2/3 lines)\n",
    "\n",
    "<< 3/5 >>"
   ]
  },
  {
   "cell_type": "code",
   "execution_count": 9,
   "metadata": {
    "collapsed": false
   },
   "outputs": [
    {
     "data": {
      "text/plain": [
       "array([ 0.89012417,  0.55448649,  0.67819602,  0.76111608,  0.60844408,\n",
       "        0.79611269,  0.6428407 ,  0.78110776,  0.70281524,  0.52435264])"
      ]
     },
     "execution_count": 9,
     "metadata": {},
     "output_type": "execute_result"
    }
   ],
   "source": [
    "X = np.random.rand(10, 3)\n",
    "idx = np.argmin(np.abs(X - 0.75), axis=1)\n",
    "X[np.arange(10), idx]"
   ]
  },
  {
   "cell_type": "markdown",
   "metadata": {},
   "source": [
    "Produce the array containing the sum of every element in `x` (3x5 array) with every element in `y` (8 elements array) (one-liner) << 3/5 >>"
   ]
  },
  {
   "cell_type": "code",
   "execution_count": 12,
   "metadata": {
    "collapsed": false
   },
   "outputs": [
    {
     "data": {
      "text/plain": [
       "(3, 5, 8)"
      ]
     },
     "execution_count": 12,
     "metadata": {},
     "output_type": "execute_result"
    }
   ],
   "source": [
    "x = np.random.rand(3, 5)\n",
    "y = np.random.randint(10, size=8)\n",
    "z = x[..., np.newaxis] + y\n",
    "z.shape"
   ]
  },
  {
   "cell_type": "markdown",
   "metadata": {},
   "source": [
    "Make a matrix (3x4) containint elements from `V` in each row in random order. (one-liner)\n",
    "```\n",
    "V = np.array([0, 5, 99])\n",
    "```\n",
    "\n",
    "<< 3/5 >>"
   ]
  },
  {
   "cell_type": "code",
   "execution_count": 13,
   "metadata": {
    "collapsed": false
   },
   "outputs": [
    {
     "data": {
      "text/plain": [
       "array([[99,  0,  5, 99],\n",
       "       [ 5,  5,  0,  0],\n",
       "       [ 0,  5,  0,  5]])"
      ]
     },
     "execution_count": 13,
     "metadata": {},
     "output_type": "execute_result"
    }
   ],
   "source": [
    "V = np.array([0, 5, 99])\n",
    "selector = np.random.randint(0, 3, size=(3, 4))\n",
    "V[selector]"
   ]
  },
  {
   "cell_type": "code",
   "execution_count": null,
   "metadata": {
    "collapsed": true
   },
   "outputs": [],
   "source": []
  }
 ],
 "metadata": {
  "kernelspec": {
   "display_name": "Python 3",
   "language": "python",
   "name": "python3"
  },
  "language_info": {
   "codemirror_mode": {
    "name": "ipython",
    "version": 3
   },
   "file_extension": ".py",
   "mimetype": "text/x-python",
   "name": "python",
   "nbconvert_exporter": "python",
   "pygments_lexer": "ipython3",
   "version": "3.4.4"
  }
 },
 "nbformat": 4,
 "nbformat_minor": 0
}
